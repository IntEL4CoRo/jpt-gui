{
 "cells": [
  {
   "cell_type": "code",
   "execution_count": null,
   "id": "a04becb9",
   "metadata": {},
   "outputs": [],
   "source": [
    "# Parameters:"
   ]
  },
  {
   "cell_type": "code",
   "execution_count": 2,
   "id": "db13e3c9-eb55-4ab8-8257-3e9959668157",
   "metadata": {},
   "outputs": [],
   "source": [
    "from dash import jupyter_dash\n",
    "jupyter_dash.infer_jupyter_proxy_config()\n",
    "\n",
    "if 'dash_mode' in locals():\n",
    "  jupyter_dash.default_mode = dash_mode\n",
    "else:\n",
    "  jupyter_dash.default_mode = \"tab\"\n",
    "\n",
    "from app import app\n",
    "app.run(debug=False)"
   ]
  }
 ],
 "metadata": {
  "kernelspec": {
   "display_name": "Python 3 (ipykernel)",
   "language": "python",
   "name": "python3"
  },
  "language_info": {
   "codemirror_mode": {
    "name": "ipython",
    "version": 3
   },
   "file_extension": ".py",
   "mimetype": "text/x-python",
   "name": "python",
   "nbconvert_exporter": "python",
   "pygments_lexer": "ipython3",
   "version": "3.8.13"
  }
 },
 "nbformat": 4,
 "nbformat_minor": 5
}
