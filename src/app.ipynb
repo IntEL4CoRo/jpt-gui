{
 "cells": [
  {
   "cell_type": "code",
   "execution_count": null,
   "id": "db13e3c9-eb55-4ab8-8257-3e9959668157",
   "metadata": {},
   "outputs": [],
   "source": [
    "from dash import jupyter_dash\n",
    "jupyter_dash.infer_jupyter_proxy_config()\n",
    "jupyter_dash.default_mode=\"jupyterlab\""
   ]
  },
  {
   "cell_type": "code",
   "execution_count": null,
   "id": "2d850ae0-797d-440d-a3ab-543f4dd91fe9",
   "metadata": {},
   "outputs": [],
   "source": [
    "import plotly.graph_objects as go # or plotly.express as px\n",
    "fig = go.Figure() # or any Plotly Express function e.g. px.bar(...)\n",
    "# fig.add_trace( ... )\n",
    "# fig.update_layout( ... )\n",
    "\n",
    "from dash import Dash, dcc, html\n",
    "\n",
    "app = Dash()\n",
    "app.layout = html.Div([\n",
    "    dcc.Graph(figure=fig)\n",
    "])\n",
    "app.run(debug=True)"
   ]
  },
  {
   "cell_type": "code",
   "execution_count": null,
   "id": "bafd236e",
   "metadata": {},
   "outputs": [],
   "source": [
    "from app import app\n",
    "app.run(debug=True)"
   ]
  }
 ],
 "metadata": {
  "kernelspec": {
   "display_name": "Python 3 (ipykernel)",
   "language": "python",
   "name": "python3"
  },
  "language_info": {
   "codemirror_mode": {
    "name": "ipython",
    "version": 3
   },
   "file_extension": ".py",
   "mimetype": "text/x-python",
   "name": "python",
   "nbconvert_exporter": "python",
   "pygments_lexer": "ipython3",
   "version": "3.8.13"
  }
 },
 "nbformat": 4,
 "nbformat_minor": 5
}
